{
 "cells": [
  {
   "cell_type": "code",
   "execution_count": 33,
   "metadata": {},
   "outputs": [],
   "source": [
    "import pandas as pd\n",
    "import pandas_profiling as pp\n",
    "import numpy as np\n",
    "import matplotlib.pyplot as plt\n",
    "import sklearn\n",
    "from matplotlib import pyplot\n",
    "from sklearn.feature_selection import SelectFromModel\n",
    "from sklearn.metrics import accuracy_score, f1_score, roc_auc_score, precision_score, recall_score\n",
    "from sklearn.metrics import classification_report\n",
    "from sklearn.metrics import confusion_matrix\n",
    "from sklearn.ensemble import ExtraTreesRegressor\n",
    "from imblearn.over_sampling import ADASYN\n",
    "from matplotlib import pyplot\n",
    "from sklearn.feature_selection import SelectFromModel\n",
    "from sklearn.metrics import r2_score, explained_variance_score, max_error, mean_absolute_error, mean_squared_error, median_absolute_error"
   ]
  },
  {
   "cell_type": "code",
   "execution_count": 34,
   "metadata": {},
   "outputs": [],
   "source": [
    "df = pd.read_csv('/home/junio/Desktop/Ju/mywaytohealth2020/jupyter/data/01.PATIENTS_VISITES-no_control_no_spurious_data-median-imputation_ADASYN.csv',sep=',')"
   ]
  },
  {
   "cell_type": "code",
   "execution_count": 35,
   "metadata": {},
   "outputs": [
    {
     "data": {
      "text/plain": [
       "(1042, 24)"
      ]
     },
     "execution_count": 35,
     "metadata": {},
     "output_type": "execute_result"
    }
   ],
   "source": [
    "df.shape"
   ]
  },
  {
   "cell_type": "markdown",
   "metadata": {},
   "source": [
    "**100 rounds random sampling validation**"
   ]
  },
  {
   "cell_type": "code",
   "execution_count": 28,
   "metadata": {},
   "outputs": [
    {
     "name": "stdout",
     "output_type": "stream",
     "text": [
      "['age', 'egfdrs001', 'nycturie_nb', 'score_depression', 'imc', 'perimetre_cervical', 'tour_de_hanches', 'padiast']\n",
      "R^2 score 0.412733766426485\n",
      "Explained variance 0.41388782111773004\n",
      "Mean absolute error 9.599359132938803\n",
      "Mean squared error 264.22471135948837\n",
      "Median absolute error 4.1538048827342715\n"
     ]
    }
   ],
   "source": [
    "#The problem is imbalanced, the averageing MUST be 'macro' to reflect the minority class missclassifications\n",
    "if True:\n",
    "    selected_fields = ['age', 'egfdrs001', 'nycturie_nb', 'score_depression', 'imc', 'perimetre_cervical', 'tour_de_hanches', 'padiast']    \n",
    "    n_folds = 100\n",
    "    df = pd.read_csv('/home/junio/Desktop/Ju/mywaytohealth2020/jupyter/data/01.PATIENTS_VISITES-no_control_no_spurious_data-median-imputation.csv',sep=',')\n",
    "    comb_to_scores_MAP = [0, 0, 0, 0, 0, 0, 0, 0, 0, 0, 0, 0]\n",
    "    print(selected_fields)\n",
    "    for fold in range(n_folds):\n",
    "        df = sklearn.utils.shuffle(df)\n",
    "        x = df[selected_fields+['polysomnographie_iah']]\n",
    "        y_class = df[['iah_class']]\n",
    "        x, y = ADASYN().fit_resample(x, y_class)\n",
    "        x_train, x_test, y_train, y_test = sklearn.model_selection.train_test_split(x,y.values.ravel(),test_size=0.33)\n",
    "\n",
    "        y_train = x_train[['polysomnographie_iah']]\n",
    "        x_train = x_train.drop(columns=['polysomnographie_iah'])\n",
    "        y_test = x_test[['polysomnographie_iah']]\n",
    "        x_test = x_test.drop(columns=['polysomnographie_iah'])\n",
    "\n",
    "        gnb = ExtraTreesRegressor(n_estimators=150)\n",
    "        gnb.fit(x_train, y_train.values.ravel())\n",
    "        y_pred = gnb.predict(x_test)\n",
    "\n",
    "        comb_to_scores_MAP[0] += r2_score(y_test, y_pred)\n",
    "        comb_to_scores_MAP[1] += explained_variance_score(y_test, y_pred)\n",
    "        comb_to_scores_MAP[2] += mean_absolute_error(y_test, y_pred)\n",
    "        comb_to_scores_MAP[3] += mean_squared_error(y_test, y_pred)\n",
    "        comb_to_scores_MAP[4] += median_absolute_error(y_test, y_pred)\n",
    "        \n",
    "    comb_to_scores_MAP[0] = comb_to_scores_MAP[0] / n_folds\n",
    "    comb_to_scores_MAP[1] = comb_to_scores_MAP[1] / n_folds\n",
    "    comb_to_scores_MAP[2] = comb_to_scores_MAP[2] / n_folds\n",
    "    comb_to_scores_MAP[3] = comb_to_scores_MAP[3] / n_folds\n",
    "    comb_to_scores_MAP[4] = comb_to_scores_MAP[4] / n_folds\n",
    "\n",
    "    print('R^2 score',comb_to_scores_MAP[0])\n",
    "    print('Explained variance',comb_to_scores_MAP[1])\n",
    "    print('Mean absolute error',comb_to_scores_MAP[2])\n",
    "    print('Mean squared error',comb_to_scores_MAP[3])\n",
    "    print('Root mean squared error',pow(comb_to_scores_MAP[3],0.5))\n",
    "    print('Median absolute error',comb_to_scores_MAP[4])"
   ]
  },
  {
   "cell_type": "code",
   "execution_count": 30,
   "metadata": {},
   "outputs": [
    {
     "name": "stdout",
     "output_type": "stream",
     "text": [
      "Root mean squared error 16.25499035248832\n"
     ]
    }
   ],
   "source": [
    "print('Root mean squared error',pow(comb_to_scores_MAP[3],0.5))"
   ]
  }
 ],
 "metadata": {
  "kernelspec": {
   "display_name": "Python 3",
   "language": "python",
   "name": "python3"
  },
  "language_info": {
   "codemirror_mode": {
    "name": "ipython",
    "version": 3
   },
   "file_extension": ".py",
   "mimetype": "text/x-python",
   "name": "python",
   "nbconvert_exporter": "python",
   "pygments_lexer": "ipython3",
   "version": "3.6.8"
  }
 },
 "nbformat": 4,
 "nbformat_minor": 4
}
