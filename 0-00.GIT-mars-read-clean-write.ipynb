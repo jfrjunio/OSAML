{
 "cells": [
  {
   "cell_type": "code",
   "execution_count": 26,
   "metadata": {},
   "outputs": [],
   "source": [
    "import pandas as pd\n",
    "import pandas_profiling as pp\n",
    "import numpy as np\n",
    "import matplotlib.pyplot as plt\n",
    "import plotly.express as px\n",
    "import xgboost\n",
    "import sklearn\n",
    "from sklearn.feature_selection import SelectFromModel\n",
    "from sklearn.metrics import explained_variance_score, max_error, mean_absolute_error, mean_squared_error,median_absolute_error"
   ]
  },
  {
   "cell_type": "code",
   "execution_count": 27,
   "metadata": {},
   "outputs": [],
   "source": [
    "df = pd.read_csv('/home/junio/Desktop/Ju/mywaytohealth2020/jupyter/data/00.MARS_VISITES.csv',sep=',')"
   ]
  },
  {
   "cell_type": "markdown",
   "metadata": {},
   "source": [
    "**Drop incomplete examns (less than 60 minutes)**"
   ]
  },
  {
   "cell_type": "code",
   "execution_count": 29,
   "metadata": {},
   "outputs": [
    {
     "name": "stdout",
     "output_type": "stream",
     "text": [
      "(3063, 59)\n",
      "2.0    1099\n",
      "1.0     155\n",
      "3.0       1\n",
      "Name: exploration_sommeil_type, dtype: int64\n",
      "(2908, 59)\n",
      "(1056, 59)\n"
     ]
    },
    {
     "data": {
      "text/plain": [
       "2.0    1054\n",
       "Name: exploration_sommeil_type, dtype: int64"
      ]
     },
     "execution_count": 29,
     "metadata": {},
     "output_type": "execute_result"
    }
   ],
   "source": [
    "print(df.shape)\n",
    "print(df.exploration_sommeil_type.value_counts())\n",
    "df = df[df['exploration_sommeil_type'] != 1]\n",
    "df.exploration_sommeil_type.value_counts()\n",
    "print(df.shape)\n",
    "df = df[(df['polysomnographie_time_st1']+df['polysomnographie_time_st2']+\n",
    "         df['polysomnographie_time_st3_4']+df['polysomnographie_time_st5']) > 60]\n",
    "print(df.shape)\n",
    "df.exploration_sommeil_type.value_counts()"
   ]
  },
  {
   "cell_type": "markdown",
   "metadata": {},
   "source": [
    "**Exclude some fields**"
   ]
  },
  {
   "cell_type": "code",
   "execution_count": 30,
   "metadata": {},
   "outputs": [],
   "source": [
    "df = df[['patient_id','age','sexe','egfdrs001','alcool',\n",
    "         'nycturie_nb','mrc','nyha','score_epworth','score_asthenie','score_depression','score_sjsr',\n",
    "         'imc','perimetre_cervical','perimetre_abdominulll','tour_de_hanches','pasyst','padiast','fc','polysomnographie_iah',\n",
    "         'iah_class','tabagisme_nb_paquets_annee', 'excercice_physique_nb_min_semaine']]"
   ]
  },
  {
   "cell_type": "code",
   "execution_count": 31,
   "metadata": {},
   "outputs": [
    {
     "data": {
      "text/plain": [
       "(1056, 23)"
      ]
     },
     "execution_count": 31,
     "metadata": {},
     "output_type": "execute_result"
    }
   ],
   "source": [
    "df.shape"
   ]
  },
  {
   "cell_type": "markdown",
   "metadata": {},
   "source": [
    "**Percentage of null values in each field**"
   ]
  },
  {
   "cell_type": "code",
   "execution_count": 32,
   "metadata": {},
   "outputs": [
    {
     "data": {
      "text/plain": [
       "patient_id                            0.000000\n",
       "age                                   0.189394\n",
       "sexe                                  0.000000\n",
       "egfdrs001                             0.000000\n",
       "alcool                                0.473485\n",
       "nycturie_nb                          45.549242\n",
       "mrc                                   1.988636\n",
       "nyha                                 21.685606\n",
       "score_epworth                        12.310606\n",
       "score_asthenie                       17.803030\n",
       "score_depression                     18.087121\n",
       "score_sjsr                           22.916667\n",
       "imc                                   1.231061\n",
       "perimetre_cervical                   31.439394\n",
       "perimetre_abdominulll                32.765152\n",
       "tour_de_hanches                      37.689394\n",
       "pasyst                               13.257576\n",
       "padiast                              13.257576\n",
       "fc                                   26.325758\n",
       "polysomnographie_iah                  0.189394\n",
       "iah_class                             0.189394\n",
       "tabagisme_nb_paquets_annee           55.965909\n",
       "excercice_physique_nb_min_semaine    71.496212\n",
       "dtype: float64"
      ]
     },
     "execution_count": 32,
     "metadata": {},
     "output_type": "execute_result"
    }
   ],
   "source": [
    "df.isnull().sum()/len(df)*100"
   ]
  },
  {
   "cell_type": "markdown",
   "metadata": {},
   "source": [
    "NOTE: attributes tabagisme_nb_paquets_annee and excercice_physique_nb_min_semaine excluded because too many null values;\n",
    "NOTE: attribute mrc excluded because it did not demonstrated importance on naive-bayes feature selection and neither on xgb feature importance."
   ]
  },
  {
   "cell_type": "code",
   "execution_count": 9,
   "metadata": {},
   "outputs": [],
   "source": [
    "#removing fields with over 50% missing values: excercice_physique_nb_min_semaine and tabagisme_nb_paquets_annee\n",
    "df = df[['patient_id','age','sexe','egfdrs001','alcool','nycturie_nb','mrc','nyha','score_epworth','score_asthenie',\n",
    "         'score_depression','score_sjsr','imc','perimetre_cervical','perimetre_abdominulll','tour_de_hanches','pasyst',\n",
    "         'padiast','fc','polysomnographie_iah','iah_class']]"
   ]
  },
  {
   "cell_type": "markdown",
   "metadata": {},
   "source": [
    "**Detecting outliers:**\n",
    "https://statisticsbyjim.com/basics/outliers/\n",
    "https://statisticsbyjim.com/basics/remove-outliers/"
   ]
  },
  {
   "cell_type": "code",
   "execution_count": 10,
   "metadata": {},
   "outputs": [],
   "source": [
    "if True:\n",
    "    %matplotlib inline\n",
    "    #note: excercice_physique_nb_min_semaine and imc are out of the plot, as their ranges distort axis y\n",
    "    df.boxplot(figsize=(30,10),column=['age','sexe','egfdrs001','alcool',\n",
    "             'nycturie_nb','mrc','nyha','score_epworth','score_asthenie','score_depression','score_sjsr',\n",
    "             'perimetre_cervical','perimetre_abdominulll','tour_de_hanches','pasyst','padiast','fc','polysomnographie_iah'])"
   ]
  },
  {
   "cell_type": "markdown",
   "metadata": {},
   "source": [
    "**Removal of spurious data**\n",
    "(negative values for strict positive fields, values dozens of times bigger than the average, and so on)"
   ]
  },
  {
   "cell_type": "code",
   "execution_count": 11,
   "metadata": {},
   "outputs": [
    {
     "name": "stdout",
     "output_type": "stream",
     "text": [
      "After polysomnographie_iah 1054\n",
      "Original 1054\n",
      "After age 1052\n",
      "After alcool 1052\n",
      "After nycturie_nb 1049\n",
      "After imc 1045\n",
      "After tour_de_hanches 1045\n",
      "After pasyst 1042\n",
      "After padiast 1042\n"
     ]
    }
   ],
   "source": [
    "#Discard the rows in which the field to be predicted is absent(null).\n",
    "df = df[df['polysomnographie_iah'].notna()] #cannot work with null\n",
    "print('After polysomnographie_iah',df.shape[0])\n",
    "print('Original',df.shape[0])\n",
    "#df = df[((df['excercice_physique_nb_min_semaine'] >= 0) & (df['excercice_physique_nb_min_semaine'] < 9000)) | (df['excercice_physique_nb_min_semaine'].isna())]\n",
    "#print('After excercice_physique_nb_min_semaine',df.shape[0])\n",
    "#df = df[(df['tabagisme_nb_paquets_annee'] >= 0) | (df['tabagisme_nb_paquets_annee'].isna())] # positive or null accepted\n",
    "#print('After tabagisme_nb_paquets_annee',df.shape[0])\n",
    "df = df[df['age'] >= 0] #no negative ages\n",
    "print('After age',df.shape[0])\n",
    "df = df[df['alcool'] != 0] #should be -1 ou 1\n",
    "print('After alcool',df.shape[0])\n",
    "df = df[((df['nycturie_nb'] >= 0) & (df['nycturie_nb'] < 30)) | (df['nycturie_nb'].isna())] #not discarding null values\n",
    "print('After nycturie_nb',df.shape[0])\n",
    "df = df[((df['imc'] >= 0)&(df['imc'] < 80)) | (df['nycturie_nb'].isna())] #not discarding null values\n",
    "print('After imc',df.shape[0])\n",
    "df = df[(df['tour_de_hanches'] > 40) | (df['tour_de_hanches'].isna())] #not discarding null values\n",
    "print('After tour_de_hanches',df.shape[0])\n",
    "df = df[((df['pasyst'] > 12)&(df['pasyst'] < 230)) | (df['pasyst'].isna())] #not discarding null values\n",
    "print('After pasyst',df.shape[0])\n",
    "df = df[(df['padiast'] >= 20) | (df['padiast'].isna())]\n",
    "print('After padiast',df.shape[0])"
   ]
  },
  {
   "cell_type": "code",
   "execution_count": 12,
   "metadata": {},
   "outputs": [],
   "source": [
    "if True:\n",
    "    df.boxplot(figsize=(30,10),column=['age','sexe','egfdrs001','alcool',\n",
    "             'nycturie_nb','mrc','nyha','score_epworth','score_asthenie','score_depression','score_sjsr',\n",
    "             'imc','perimetre_cervical','perimetre_abdominulll','tour_de_hanches','pasyst','padiast','fc','polysomnographie_iah'])"
   ]
  },
  {
   "cell_type": "code",
   "execution_count": 13,
   "metadata": {},
   "outputs": [],
   "source": [
    "df = df.astype({\"iah_class\": int})"
   ]
  },
  {
   "cell_type": "code",
   "execution_count": 14,
   "metadata": {},
   "outputs": [],
   "source": [
    "df.to_csv('/home/junio/Desktop/Ju/mywaytohealth2020/jupyter/data/01.PATIENTS_VISITES-no_control_no_spurious_data.csv',sep=',')\n",
    "#profile=pp.ProfileReport(df)\n",
    "#profile.to_file(\"/home/junio/Desktop/Ju/mywaytohealth2020/jupyter/data/01.PATIENTS_VISITES-no_control_no_spurious_data-REPORT.html\")"
   ]
  },
  {
   "cell_type": "markdown",
   "metadata": {},
   "source": [
    "**Analysis: positive vs negative**"
   ]
  },
  {
   "cell_type": "code",
   "execution_count": 15,
   "metadata": {},
   "outputs": [],
   "source": [
    "if True:\n",
    "    df_positive = df[df['polysomnographie_iah'] >= 5]\n",
    "    df_negative = df[df['polysomnographie_iah'] < 5]\n",
    "    df_positive.boxplot(figsize=(30,10),column=['age','sexe','egfdrs001','alcool',\n",
    "             'nycturie_nb','mrc','nyha','score_epworth','score_asthenie','score_depression','score_sjsr',\n",
    "             'imc','perimetre_cervical','perimetre_abdominulll','tour_de_hanches','pasyst','padiast','fc','polysomnographie_iah'])\n",
    "\n",
    "    df_negative.boxplot(figsize=(30,10),column=['age','sexe','egfdrs001','alcool',\n",
    "             'nycturie_nb','mrc','nyha','score_epworth','score_asthenie','score_depression','score_sjsr',\n",
    "             'imc','perimetre_cervical','perimetre_abdominulll','tour_de_hanches','pasyst','padiast','fc','polysomnographie_iah'])"
   ]
  },
  {
   "cell_type": "markdown",
   "metadata": {},
   "source": [
    "**Substitute null values by the median (not the mean) of each column** (no improvements)"
   ]
  },
  {
   "cell_type": "code",
   "execution_count": 16,
   "metadata": {},
   "outputs": [],
   "source": [
    "#all fields but patient_id_hashed\n",
    "numerical_cols = ['age','sexe','egfdrs001','alcool','nycturie_nb','mrc','nyha','score_epworth','score_asthenie',\n",
    "                  'score_depression','score_sjsr','imc','perimetre_cervical','perimetre_abdominulll','tour_de_hanches',\n",
    "                  'pasyst','padiast','fc', 'tabagisme_nb_paquets_annee', 'excercice_physique_nb_min_semaine']"
   ]
  },
  {
   "cell_type": "code",
   "execution_count": 17,
   "metadata": {},
   "outputs": [],
   "source": [
    "df[numerical_cols] = df[numerical_cols].fillna(df[numerical_cols].median())"
   ]
  },
  {
   "cell_type": "code",
   "execution_count": 18,
   "metadata": {},
   "outputs": [],
   "source": [
    "df.to_csv('/home/junio/Desktop/Ju/mywaytohealth2020/jupyter/data/01.PATIENTS_VISITES-no_control_no_spurious_data-median-imputation.csv',sep=',')"
   ]
  },
  {
   "cell_type": "markdown",
   "metadata": {},
   "source": [
    "**Normalization**"
   ]
  },
  {
   "cell_type": "code",
   "execution_count": 22,
   "metadata": {},
   "outputs": [],
   "source": [
    "#from sklearn.preprocessing import MinMaxScaler #too many outliers to use this one\n",
    "from sklearn.preprocessing import PowerTransformer\n",
    "from sklearn.decomposition import PCA\n",
    "#all fields but patient_id_hashed\n",
    "df[numerical_cols] = PowerTransformer().fit_transform(df[numerical_cols])"
   ]
  },
  {
   "cell_type": "code",
   "execution_count": 23,
   "metadata": {},
   "outputs": [],
   "source": [
    "df.to_csv('/home/junio/Desktop/Ju/mywaytohealth2020/jupyter/data/01.PATIENTS_VISITES-no_control_no_spurious_data-median-imputation.csv',sep=',')"
   ]
  },
  {
   "cell_type": "code",
   "execution_count": 24,
   "metadata": {},
   "outputs": [],
   "source": [
    "df=df.reset_index()"
   ]
  },
  {
   "cell_type": "code",
   "execution_count": 25,
   "metadata": {},
   "outputs": [
    {
     "data": {
      "text/plain": [
       "index                                0.0\n",
       "patient_id                           0.0\n",
       "age                                  0.0\n",
       "sexe                                 0.0\n",
       "egfdrs001                            0.0\n",
       "alcool                               0.0\n",
       "nycturie_nb                          0.0\n",
       "mrc                                  0.0\n",
       "nyha                                 0.0\n",
       "score_epworth                        0.0\n",
       "score_asthenie                       0.0\n",
       "score_depression                     0.0\n",
       "score_sjsr                           0.0\n",
       "imc                                  0.0\n",
       "perimetre_cervical                   0.0\n",
       "perimetre_abdominulll                0.0\n",
       "tour_de_hanches                      0.0\n",
       "pasyst                               0.0\n",
       "padiast                              0.0\n",
       "fc                                   0.0\n",
       "polysomnographie_iah                 0.0\n",
       "iah_class                            0.0\n",
       "tabagisme_nb_paquets_annee           0.0\n",
       "excercice_physique_nb_min_semaine    0.0\n",
       "dtype: float64"
      ]
     },
     "execution_count": 25,
     "metadata": {},
     "output_type": "execute_result"
    }
   ],
   "source": [
    "df.isnull().sum()/len(df)*100"
   ]
  },
  {
   "cell_type": "markdown",
   "metadata": {},
   "source": [
    "**PCA visual analysis**"
   ]
  },
  {
   "cell_type": "code",
   "execution_count": 133,
   "metadata": {},
   "outputs": [],
   "source": [
    "if True:\n",
    "    #all fields but patient_id_hashed and polysomnographie_iah/iah_class\n",
    "    numerical_cols_minus_iah = ['age','sexe','egfdrs001','alcool',\n",
    "                                'nycturie_nb','mrc','nyha','score_epworth','score_asthenie','score_depression','score_sjsr',\n",
    "                                'imc','perimetre_cervical','perimetre_abdominulll','tour_de_hanches','pasyst','padiast','fc']\n",
    "\n",
    "    pca = PCA(n_components=3)\n",
    "    principalComponents = pca.fit_transform(df[numerical_cols_minus_iah])\n",
    "    principalDf = pd.DataFrame(data = principalComponents, columns = ['comp1', 'comp2', 'comp3'])\n",
    "\n",
    "    finalDf = pd.concat([principalDf, df[['iah_class']]], axis=1)\n",
    "    fig = px.scatter_3d(finalDf, x='comp1', y='comp2', z='comp3',\n",
    "                        color=(finalDf['iah_class']+1).astype(str),\n",
    "                        symbol='iah_class',\n",
    "                        size=(1/(finalDf['iah_class']+1)*2),\n",
    "                        size_max=10,\n",
    "                        opacity=0.6,\n",
    "                        width=600, height=600,\n",
    "                        title='All fields')\n",
    "    fig.show()"
   ]
  },
  {
   "cell_type": "code",
   "execution_count": 134,
   "metadata": {},
   "outputs": [],
   "source": [
    "if True:\n",
    "    numerical_cols_minus_iah = ['padiast','pasyst','fc']\n",
    "    pca = PCA(n_components=3)\n",
    "    principalComponents = pca.fit_transform(df[numerical_cols_minus_iah])\n",
    "    principalDf = pd.DataFrame(data = principalComponents, columns = ['comp1', 'comp2', 'comp3'])\n",
    "\n",
    "    principalDf=principalDf.reset_index()\n",
    "    finalDf = pd.concat([principalDf, df[['iah_class']]], axis=1)\n",
    "    fig = px.scatter_3d(finalDf, x='comp1', y='comp2', z='comp3',\n",
    "                        color=(finalDf['iah_class']+1).astype(str),\n",
    "                        symbol='iah_class',\n",
    "                        size=(1/(finalDf['iah_class']+1)*2),\n",
    "                        size_max=10,\n",
    "                        opacity=0.6,\n",
    "                        width=600, height=600,\n",
    "                        title='Blood pressure fields')\n",
    "    fig.show()"
   ]
  },
  {
   "cell_type": "code",
   "execution_count": 135,
   "metadata": {},
   "outputs": [],
   "source": [
    "if True:\n",
    "    numerical_cols_minus_iah = ['perimetre_cervical', 'perimetre_abdominulll', 'imc', 'fc']    \n",
    "    pca = PCA(n_components=3)\n",
    "    principalComponents = pca.fit_transform(df[numerical_cols_minus_iah])\n",
    "    principalDf = pd.DataFrame(data = principalComponents, columns = ['comp1', 'comp2', 'comp3'])\n",
    "\n",
    "    principalDf=principalDf.reset_index()\n",
    "    finalDf = pd.concat([principalDf, df[['iah_class']]], axis=1)\n",
    "    fig = px.scatter_3d(finalDf, x='comp1', y='comp2', z='comp3',\n",
    "                        color=(finalDf['iah_class']+1).astype(str),\n",
    "                        symbol='iah_class',\n",
    "                        size=(1/(finalDf['iah_class']+1)*2),\n",
    "                        size_max=10,\n",
    "                        opacity=0.6,\n",
    "                        width=600, height=600,\n",
    "                        title='Anatomic features')\n",
    "    fig.show()"
   ]
  },
  {
   "cell_type": "code",
   "execution_count": 137,
   "metadata": {},
   "outputs": [],
   "source": [
    "if True:\n",
    "    numerical_cols_minus_iah = ['nyha','score_epworth','score_asthenie','score_depression','score_sjsr']  \n",
    "    pca = PCA(n_components=3)\n",
    "    principalComponents = pca.fit_transform(df[numerical_cols_minus_iah])\n",
    "    principalDf = pd.DataFrame(data = principalComponents, columns = ['comp1', 'comp2', 'comp3'])\n",
    "\n",
    "    principalDf=principalDf.reset_index()\n",
    "    finalDf = pd.concat([principalDf, df[['iah_class']]], axis=1)\n",
    "    fig = px.scatter_3d(finalDf, x='comp1', y='comp2', z='comp3',\n",
    "                        color=(finalDf['iah_class']+1).astype(str),\n",
    "                        symbol='iah_class',\n",
    "                        size=(1/(finalDf['iah_class']+1)*2),\n",
    "                        size_max=10,\n",
    "                        opacity=0.6,\n",
    "                        width=600, height=600,\n",
    "                        title='Scores features')\n",
    "    fig.show()"
   ]
  },
  {
   "cell_type": "code",
   "execution_count": 138,
   "metadata": {},
   "outputs": [],
   "source": [
    "if True:\n",
    "    numerical_cols_minus_iah = ['age', 'egfdrs001', 'nycturie_nb', 'score_depression', 'imc', 'perimetre_cervical', 'tour_de_hanches', 'padiast']  \n",
    "   \n",
    "    pca = PCA(n_components=2)\n",
    "    principalComponents = pca.fit_transform(df[numerical_cols_minus_iah])  \n",
    "    principalDf = pd.DataFrame(data = principalComponents, columns = ['comp1', 'comp2'])\n",
    "    finalDf = pd.concat([principalDf, df[['iah_class']]], axis=1)\n",
    "    fig = px.scatter(finalDf, x='comp1', y='comp2',\n",
    "                        color=(finalDf['iah_class']+1).astype(str),\n",
    "                        symbol='iah_class',\n",
    "                        size=(1/(finalDf['iah_class']+3)*2),\n",
    "                        size_max=10,\n",
    "                        opacity=0.6,\n",
    "                        width=300, height=300,\n",
    "                        title='Final selection of features (Bayes)')\n",
    "    fig.show()"
   ]
  },
  {
   "cell_type": "code",
   "execution_count": 139,
   "metadata": {},
   "outputs": [],
   "source": [
    "if True:\n",
    "    fig = px.parallel_coordinates(df[numerical_cols_minus_iah+['iah_class']], color=\"iah_class\", labels={\"patient_id\": \"patient_id\" },\n",
    "                    color_continuous_scale=px.colors.diverging.Tealrose, color_continuous_midpoint=2)\n",
    "    fig.show()"
   ]
  },
  {
   "cell_type": "code",
   "execution_count": 140,
   "metadata": {},
   "outputs": [],
   "source": [
    "if True:\n",
    "    numerical_cols_minus_iah = ['pasyst','padiast','fc']\n",
    "    fig = px.parallel_coordinates(df[numerical_cols_minus_iah+['iah_class']], color=\"iah_class\", labels={\"patient_id\": \"patient_id\" },\n",
    "                    color_continuous_scale=px.colors.diverging.Tealrose, color_continuous_midpoint=2)\n",
    "    fig.show()"
   ]
  },
  {
   "cell_type": "markdown",
   "metadata": {},
   "source": [
    "**Oversampling using ADASYN**"
   ]
  },
  {
   "cell_type": "code",
   "execution_count": 142,
   "metadata": {},
   "outputs": [],
   "source": [
    "#all fields but patient_id_hashed\n",
    "numerical_cols = ['age','sexe','egfdrs001','alcool',\n",
    "                  'nycturie_nb','mrc','nyha','score_epworth','score_asthenie','score_depression','score_sjsr',\n",
    "                  'imc','perimetre_cervical','perimetre_abdominulll','tour_de_hanches','pasyst','padiast','fc','polysomnographie_iah'\n",
    "                 ,'tabagisme_nb_paquets_annee', 'excercice_physique_nb_min_semaine']"
   ]
  },
  {
   "cell_type": "code",
   "execution_count": 143,
   "metadata": {},
   "outputs": [],
   "source": [
    "from imblearn.over_sampling import ADASYN\n",
    "y = df[['iah_class']]\n",
    "y = y.astype({\"iah_class\": int})\n",
    "x = df[numerical_cols]\n",
    "#print(y.iah_class.value_counts())\n",
    "x_resampled, y_resampled = ADASYN().fit_resample(x, y)\n",
    "df_resampled = pd.concat([x_resampled, y_resampled], axis=1)"
   ]
  },
  {
   "cell_type": "code",
   "execution_count": 144,
   "metadata": {},
   "outputs": [],
   "source": [
    "df_resampled.to_csv('/home/junio/Desktop/Ju/mywaytohealth2020/jupyter/data/01.PATIENTS_VISITES-no_control_no_spurious_data-median-imputation_ADASYN.csv',sep=',')"
   ]
  },
  {
   "cell_type": "code",
   "execution_count": 145,
   "metadata": {},
   "outputs": [
    {
     "name": "stdout",
     "output_type": "stream",
     "text": [
      "218.80998080614202% data augmentation with ADASYN\n"
     ]
    }
   ],
   "source": [
    "print(str(df_resampled.shape[0]/df.shape[0]*100)+'%','data augmentation with ADASYN')"
   ]
  },
  {
   "cell_type": "code",
   "execution_count": 146,
   "metadata": {},
   "outputs": [
    {
     "data": {
      "text/plain": [
       "age                                  0.0\n",
       "sexe                                 0.0\n",
       "egfdrs001                            0.0\n",
       "alcool                               0.0\n",
       "nycturie_nb                          0.0\n",
       "mrc                                  0.0\n",
       "nyha                                 0.0\n",
       "score_epworth                        0.0\n",
       "score_asthenie                       0.0\n",
       "score_depression                     0.0\n",
       "score_sjsr                           0.0\n",
       "imc                                  0.0\n",
       "perimetre_cervical                   0.0\n",
       "perimetre_abdominulll                0.0\n",
       "tour_de_hanches                      0.0\n",
       "pasyst                               0.0\n",
       "padiast                              0.0\n",
       "fc                                   0.0\n",
       "polysomnographie_iah                 0.0\n",
       "tabagisme_nb_paquets_annee           0.0\n",
       "excercice_physique_nb_min_semaine    0.0\n",
       "iah_class                            0.0\n",
       "dtype: float64"
      ]
     },
     "execution_count": 146,
     "metadata": {},
     "output_type": "execute_result"
    }
   ],
   "source": [
    "df_resampled.isnull().sum()/len(df)*100"
   ]
  },
  {
   "cell_type": "markdown",
   "metadata": {},
   "source": [
    "**Visualization of oversampled data**"
   ]
  },
  {
   "cell_type": "code",
   "execution_count": 148,
   "metadata": {},
   "outputs": [],
   "source": [
    "if True:\n",
    "    numerical_cols_minus_iah = ['age', 'egfdrs001', 'nycturie_nb', 'score_depression', 'imc', 'perimetre_cervical', 'tour_de_hanches', 'padiast']  \n",
    "    pca = PCA(n_components=3)\n",
    "    principalComponents = pca.fit_transform(df_resampled[numerical_cols_minus_iah])\n",
    "    principalDf = pd.DataFrame(data = principalComponents, columns = ['comp1', 'comp2', 'comp3'])\n",
    "\n",
    "    principalDf=principalDf.reset_index()\n",
    "    finalDf = pd.concat([principalDf, df_resampled[['iah_class']]], axis=1)\n",
    "    fig = px.scatter_3d(finalDf, x='comp1', y='comp2', z='comp3',\n",
    "                        color=(finalDf['iah_class']+1).astype(str),\n",
    "                        symbol='iah_class',\n",
    "                        size=(1/(finalDf['iah_class']+1)*2),\n",
    "                        size_max=10,\n",
    "                        opacity=0.6,\n",
    "                        width=600, height=600,\n",
    "                        title='Final selection of features (Bayes) with ADASYN')\n",
    "    fig.show()"
   ]
  },
  {
   "cell_type": "code",
   "execution_count": 150,
   "metadata": {},
   "outputs": [],
   "source": [
    "if True:\n",
    "    numerical_cols_minus_iah = ['age', 'egfdrs001', 'nycturie_nb', 'score_depression', 'imc', 'perimetre_cervical', 'tour_de_hanches', 'padiast']  \n",
    "   \n",
    "    pca = PCA(n_components=2)\n",
    "    principalComponents = pca.fit_transform(df_resampled[numerical_cols_minus_iah])  \n",
    "    principalDf = pd.DataFrame(data = principalComponents, columns = ['comp1', 'comp2'])\n",
    "    finalDf = pd.concat([principalDf, df_resampled[['iah_class']]], axis=1)\n",
    "    fig = px.scatter(finalDf, x='comp1', y='comp2',\n",
    "                        color=(finalDf['iah_class']+1).astype(str),\n",
    "                        symbol='iah_class',\n",
    "                        size=(1/(finalDf['iah_class']+2)*2),\n",
    "                        size_max=10,\n",
    "                        opacity=0.6,\n",
    "                        width=300, height=300,\n",
    "                        title='Final selection of features (Bayes)')\n",
    "    fig.show()"
   ]
  }
 ],
 "metadata": {
  "kernelspec": {
   "display_name": "Python 3",
   "language": "python",
   "name": "python3"
  },
  "language_info": {
   "codemirror_mode": {
    "name": "ipython",
    "version": 3
   },
   "file_extension": ".py",
   "mimetype": "text/x-python",
   "name": "python",
   "nbconvert_exporter": "python",
   "pygments_lexer": "ipython3",
   "version": "3.6.8"
  }
 },
 "nbformat": 4,
 "nbformat_minor": 4
}
